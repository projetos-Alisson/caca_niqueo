{
 "cells": [
  {
   "cell_type": "markdown",
   "id": "6890302d",
   "metadata": {},
   "source": [
    "O que são classes base abstratas?\n",
    "\n",
    "Classes base abstratas são classes que possuem pelo menos um método abstrato. Um método abstrato é um método que é declarado, mas não implementado na classe base. As subclasses devem fornecer a implementação desses métodos para se tornarem classes concretas e instanciávei"
   ]
  },
  {
   "cell_type": "markdown",
   "id": "dd7b4676",
   "metadata": {},
   "source": [
    "EXEMPLO DE USO"
   ]
  },
  {
   "cell_type": "code",
   "execution_count": null,
   "id": "f77524ab",
   "metadata": {},
   "outputs": [],
   "source": [
    "from abc import ABC, abstractmethod"
   ]
  },
  {
   "cell_type": "code",
   "execution_count": null,
   "id": "141bcd54",
   "metadata": {},
   "outputs": [],
   "source": [
    "class Animal(ABC):\n",
    "    @abstractmethod\n",
    "    def fazer_som(self):\n",
    "       pass"
   ]
  },
  {
   "cell_type": "code",
   "execution_count": null,
   "id": "eeb8f850",
   "metadata": {},
   "outputs": [],
   "source": [
    "class Cachorro(Animal):\n",
    "       def fazer_som(self):\n",
    "           return \"Woof!\"\n",
    "\n",
    "class Gato(Animal):\n",
    "       def fazer_som(self):\n",
    "           return \"Miau!\""
   ]
  },
  {
   "cell_type": "code",
   "execution_count": null,
   "id": "d9d98bcb",
   "metadata": {},
   "outputs": [],
   "source": [
    "meu_cachorro = Cachorro()\n",
    "meu_gato = Gato()\n",
    "print(meu_cachorro.fazer_som())\n",
    "print(meu_gato.fazer_som())"
   ]
  }
 ],
 "metadata": {
  "language_info": {
   "name": "python"
  }
 },
 "nbformat": 4,
 "nbformat_minor": 5
}
