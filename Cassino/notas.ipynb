{
 "cells": [
  {
   "cell_type": "markdown",
   "id": "9fd018a0",
   "metadata": {},
   "source": [
    "1. Usar POO com herança e abstração\n",
    "Motivação: Organizar o código em partes modulares e reutilizáveis, facilitando manutenção, testes e extensões.\n",
    "\n",
    "\n",
    "from abc import ABC, abstractmethod\n",
    "\n",
    "O que faz? Importa a infraestrutura para criar classes abstratas, ou seja, estruturas que definem o que uma classe filha deve implementar, mas não implementam diretamente o comportamento."
   ]
  },
  {
   "cell_type": "markdown",
   "id": "28d38b2a",
   "metadata": {},
   "source": [
    "2. Definir uma base abstrata para máquinas\n",
    "\n",
    "def BaseMachine(ABC):\n",
    "\n",
    "\n",
    "Objetivo:\n",
    "\n",
    "Fornecer uma interface obrigatória que qualquer \"máquina caça-níquel\" deve seguir, com métodos abstratos:\n",
    "\n",
    "@abstractmethod\n",
    "def _gen_permutations(self):\n",
    "    ..."
   ]
  },
  {
   "cell_type": "markdown",
   "id": "b0b9e262",
   "metadata": {},
   "source": [
    "E assim por diante com métodos como:\n",
    "\n",
    "_get_final_result\n",
    "\n",
    "_display\n",
    "\n",
    "_check_result_user\n",
    "\n",
    "update_balance\n",
    "\n",
    "emojisize\n",
    "\n",
    "gain\n",
    "\n",
    "play"
   ]
  },
  {
   "cell_type": "markdown",
   "id": "aec00b74",
   "metadata": {},
   "source": [
    "3. Criar uma implementação concreta: CassaNiquel\n",
    "\n",
    "class CassaNiquel:\n",
    "\n",
    "Essa é a classe que vai implementar (ou futuramente implementar) a lógica real do caça-níquel. Por enquanto, só há duas partes implementadas: o construtor (__init__) e o método _gen_permutations."
   ]
  }
 ],
 "metadata": {
  "language_info": {
   "name": "python"
  }
 },
 "nbformat": 4,
 "nbformat_minor": 5
}
